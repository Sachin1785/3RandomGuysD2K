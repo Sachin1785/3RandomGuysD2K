{
  "cells": [
    {
      "cell_type": "code",
      "execution_count": null,
      "metadata": {
        "id": "Z0M8VBrB8qWY"
      },
      "outputs": [],
      "source": [
        "import pandas as pd\n",
        "import numpy as np\n",
        "from imblearn.over_sampling import SMOTE\n",
        "from sklearn.model_selection import train_test_split\n",
        "from sklearn.preprocessing import StandardScaler\n",
        "from sklearn.impute import SimpleImputer"
      ]
    },
    {
      "cell_type": "code",
      "execution_count": null,
      "metadata": {
        "id": "RbNfJUFMAAin"
      },
      "outputs": [],
      "source": [
        "df = pd.read_csv('/content/Facility Management Unified Classification Database (FMUCD).csv')"
      ]
    },
    {
      "cell_type": "code",
      "execution_count": null,
      "metadata": {
        "colab": {
          "base_uri": "https://localhost:8080/"
        },
        "id": "ck6NMU7lCLEw",
        "outputId": "fc521976-4d24-4aa2-d700-fc3b7d8c14fa"
      },
      "outputs": [
        {
          "name": "stdout",
          "output_type": "stream",
          "text": [
            "Index(['UniversityID', 'Country', 'State/Province', 'BuildingID',\n",
            "       'BuildingName', 'Size', 'Type', 'BuiltYear',\n",
            "       'FCI (facility condition index)', 'CRV (current replacement value)',\n",
            "       'DMC (deferred maintenance cost)', 'SystemCode', 'SystemDescription',\n",
            "       'SubsystemCode', 'SubsystemDescription', 'DescriptiveCode',\n",
            "       'ComponentDescription', 'WOID', 'WODescription', 'WOPriority',\n",
            "       'WOStartDate', 'WOEndDate', 'WODuration', 'PPM/UPM', 'LaborCost',\n",
            "       'MaterialCost', 'OtherCost', 'TotalCost', 'LaborHours', 'MinTemp.(°C)',\n",
            "       'MaxTemp.(°C)', 'Atmospheric pressure(hPa)', 'Humidity(%)',\n",
            "       'WindSpeed(m/s)', 'WindDegree', 'Precipitation(mm)', 'Snow(mm)',\n",
            "       'Cloudness(%)'],\n",
            "      dtype='object')\n"
          ]
        }
      ],
      "source": [
        "from imblearn.over_sampling import SMOTE\n",
        "from sklearn.model_selection import train_test_split\n",
        "from sklearn.preprocessing import StandardScaler\n",
        "print(df.columns)\n"
      ]
    },
    {
      "cell_type": "code",
      "execution_count": null,
      "metadata": {
        "id": "ateEAYEPIYO2"
      },
      "outputs": [],
      "source": [
        "# 1. Data Preprocessing\n",
        "# Handling Missing Values\n",
        "numerical_cols = ['Size', 'BuiltYear', 'FCI (facility condition index)', 'CRV (current replacement value)', 'DMC (deferred maintenance cost)', 'WODuration', 'LaborCost', 'MaterialCost', 'OtherCost', 'TotalCost', 'LaborHours', 'MinTemp.(°C)', 'MaxTemp.(°C)', 'Atmospheric pressure(hPa)', 'Humidity(%)', 'WindSpeed(m/s)', 'WindDegree', 'Precipitation(mm)', 'Snow(mm)', 'Cloudness(%)']\n",
        "for col in numerical_cols:\n",
        "    df[col] = df[col].fillna(df[col].mean())\n",
        "\n",
        "categorical_cols = ['UniversityID', 'Country', 'BuildingID', 'State/Province', 'PPM/UPM' , 'BuildingName', 'Type', 'SystemCode', 'SystemDescription', 'SubsystemDescription', 'SubsystemCode', 'DescriptiveCode', 'ComponentDescription', 'WOID', 'WODescription', 'WOPriority']\n",
        "for col in categorical_cols:\n",
        "    df[col] = df[col].fillna(df[col].mode()[0])"
      ]
    },
    {
      "cell_type": "code",
      "execution_count": null,
      "metadata": {
        "id": "8ZqyQDiqKamz"
      },
      "outputs": [],
      "source": [
        "\n",
        "df['WOPriority'] = pd.to_numeric(df['WOPriority'], errors='coerce')\n",
        "df['WOPriority_High'] = (df['WOPriority'] > 90).astype(int)"
      ]
    },
    {
      "cell_type": "markdown",
      "metadata": {
        "id": "XniCESzQPIpr"
      },
      "source": []
    },
    {
      "cell_type": "code",
      "execution_count": null,
      "metadata": {
        "id": "1d3cMmY9KfdU"
      },
      "outputs": [],
      "source": [
        "# 2. Feature Engineering\n",
        "df['TaskFrequency'] = df.groupby('WOID')['WOID'].transform('count')\n",
        "df['WOsPerBuilding'] = df.groupby('BuildingID')['WOID'].transform('count')\n",
        "df['WOStartMonth'] = pd.to_datetime(df['WOStartDate'], dayfirst=True).dt.month\n",
        "df['WOStartYear'] = pd.to_datetime(df['WOStartDate'], dayfirst=True).dt.year\n",
        "df['WOEndMonth'] = pd.to_datetime(df['WOEndDate'], dayfirst=True).dt.month\n",
        "df['WOEndYear'] = pd.to_datetime(df['WOEndDate'], dayfirst=True).dt.year"
      ]
    },
    {
      "cell_type": "code",
      "execution_count": null,
      "metadata": {
        "id": "LaGCFE_WRxyE"
      },
      "outputs": [],
      "source": [
        "# 3. Drop Columns\n",
        "columns_to_drop = ['UniversityID', 'BuildingID', 'BuildingName', 'SystemCode', 'SubsystemCode', 'DescriptiveCode', 'ComponentDescription', 'WOID', 'WODescription', 'Country', 'State/Province', 'SystemDescription', 'SubsystemDescription','WOStartDate','WOEndDate']  \n",
        "df = df.drop(columns=columns_to_drop, axis=1)"
      ]
    },
    {
      "cell_type": "code",
      "execution_count": null,
      "metadata": {
        "colab": {
          "base_uri": "https://localhost:8080/"
        },
        "id": "DNxwUZvDK-St",
        "outputId": "493a749b-acff-4dde-a7ea-b649fe1c002a"
      },
      "outputs": [
        {
          "name": "stdout",
          "output_type": "stream",
          "text": [
            "Index(['Size', 'Type', 'BuiltYear', 'FCI (facility condition index)',\n",
            "       'CRV (current replacement value)', 'DMC (deferred maintenance cost)',\n",
            "       'WODuration', 'PPM/UPM', 'LaborCost', 'MaterialCost', 'OtherCost',\n",
            "       'TotalCost', 'LaborHours', 'MinTemp.(°C)', 'MaxTemp.(°C)',\n",
            "       'Atmospheric pressure(hPa)', 'Humidity(%)', 'WindSpeed(m/s)',\n",
            "       'WindDegree', 'Precipitation(mm)', 'Snow(mm)', 'Cloudness(%)',\n",
            "       'WOPriority_High', 'TaskFrequency', 'WOsPerBuilding', 'WOStartMonth',\n",
            "       'WOStartYear', 'WOEndMonth', 'WOEndYear'],\n",
            "      dtype='object')\n"
          ]
        }
      ],
      "source": [
        "# 4. Handling Class Imbalances with SMOTE\n",
        "# print(df.columns)\n",
        "# df['WOPriority_High'] = (df['WOPriority'] > 90).astype(int)\n",
        "# print(df['WOPriority_High'])\n",
        "X = df.drop(['WOPriority'], axis=1)  \n",
        "y = df['WOPriority']  \n",
        "print(X.columns)"
      ]
    },
    {
      "cell_type": "code",
      "execution_count": null,
      "metadata": {
        "id": "0r8xVtc6Nb6R"
      },
      "outputs": [],
      "source": [
        "# one-hot coding\n",
        "categorical_features = X.select_dtypes(include=['object']).columns\n",
        "X = pd.get_dummies(X, columns=categorical_features, drop_first=True)"
      ]
    },
    {
      "cell_type": "code",
      "execution_count": null,
      "metadata": {
        "colab": {
          "base_uri": "https://localhost:8080/"
        },
        "id": "mV5Xget6N9NO",
        "outputId": "ef4703be-60fe-41eb-cc99-5685a8633c5f"
      },
      "outputs": [
        {
          "name": "stdout",
          "output_type": "stream",
          "text": [
            "Size                                0\n",
            "BuiltYear                           0\n",
            "FCI (facility condition index)      0\n",
            "CRV (current replacement value)     0\n",
            "DMC (deferred maintenance cost)     0\n",
            "WODuration                          0\n",
            "LaborCost                           0\n",
            "MaterialCost                        0\n",
            "OtherCost                           0\n",
            "TotalCost                           0\n",
            "LaborHours                          0\n",
            "MinTemp.(°C)                        0\n",
            "MaxTemp.(°C)                        0\n",
            "Atmospheric pressure(hPa)           0\n",
            "Humidity(%)                         0\n",
            "WindSpeed(m/s)                      0\n",
            "WindDegree                          0\n",
            "Precipitation(mm)                   0\n",
            "Snow(mm)                            0\n",
            "Cloudness(%)                        0\n",
            "WOPriority_High                     0\n",
            "TaskFrequency                       0\n",
            "WOsPerBuilding                      0\n",
            "WOStartMonth                        0\n",
            "WOStartYear                         0\n",
            "WOEndMonth                         97\n",
            "WOEndYear                          97\n",
            "Type_Other                          0\n",
            "Type_Research                       0\n",
            "Type_Student Experience             0\n",
            "Type_Teaching                       0\n",
            "PPM/UPM_UPM                         0\n",
            "dtype: int64\n"
          ]
        }
      ],
      "source": [
        "\n",
        "X_train, X_test, y_train, y_test = train_test_split(X, y, test_size=0.2, random_state=42)\n",
        "print(X_train.isnull().sum())"
      ]
    },
    {
      "cell_type": "code",
      "execution_count": null,
      "metadata": {
        "id": "7C_L1nqGS5iD"
      },
      "outputs": [],
      "source": [
        "date_cols = ['WOStartMonth', 'WOStartYear', 'WOEndMonth', 'WOEndYear']\n",
        "\n",
        "imputer_date = SimpleImputer(strategy='most_frequent')\n",
        "\n",
        "X_train[date_cols] = imputer_date.fit_transform(X_train[date_cols])\n",
        "X_test[date_cols] = imputer_date.transform(X_test[date_cols])"
      ]
    },
    {
      "cell_type": "code",
      "execution_count": null,
      "metadata": {
        "colab": {
          "base_uri": "https://localhost:8080/"
        },
        "id": "TwnksxRmTNrP",
        "outputId": "f03fb8bc-5ced-497b-a8d0-9e9d4179cd28"
      },
      "outputs": [
        {
          "name": "stdout",
          "output_type": "stream",
          "text": [
            "Size                               0\n",
            "BuiltYear                          0\n",
            "FCI (facility condition index)     0\n",
            "CRV (current replacement value)    0\n",
            "DMC (deferred maintenance cost)    0\n",
            "WODuration                         0\n",
            "LaborCost                          0\n",
            "MaterialCost                       0\n",
            "OtherCost                          0\n",
            "TotalCost                          0\n",
            "LaborHours                         0\n",
            "MinTemp.(°C)                       0\n",
            "MaxTemp.(°C)                       0\n",
            "Atmospheric pressure(hPa)          0\n",
            "Humidity(%)                        0\n",
            "WindSpeed(m/s)                     0\n",
            "WindDegree                         0\n",
            "Precipitation(mm)                  0\n",
            "Snow(mm)                           0\n",
            "Cloudness(%)                       0\n",
            "WOPriority_High                    0\n",
            "TaskFrequency                      0\n",
            "WOsPerBuilding                     0\n",
            "WOStartMonth                       0\n",
            "WOStartYear                        0\n",
            "WOEndMonth                         0\n",
            "WOEndYear                          0\n",
            "Type_Other                         0\n",
            "Type_Research                      0\n",
            "Type_Student Experience            0\n",
            "Type_Teaching                      0\n",
            "PPM/UPM_UPM                        0\n",
            "dtype: int64\n"
          ]
        }
      ],
      "source": [
        "print(X_train.isnull().sum())"
      ]
    },
    {
      "cell_type": "code",
      "execution_count": null,
      "metadata": {
        "id": "ARZQU4-RODTv"
      },
      "outputs": [],
      "source": [
        "smote = SMOTE(random_state=42, k_neighbors=1)\n",
        "X_train_resampled, y_train_resampled = smote.fit_resample(X_train, y_train)"
      ]
    },
    {
      "cell_type": "code",
      "execution_count": null,
      "metadata": {
        "colab": {
          "base_uri": "https://localhost:8080/"
        },
        "id": "MPSBmpukUYD1",
        "outputId": "a1a36e5e-75dc-4836-bfe8-6a60d809754f"
      },
      "outputs": [
        {
          "name": "stdout",
          "output_type": "stream",
          "text": [
            "                 Size    BuiltYear  FCI (facility condition index)  \\\n",
            "0        70640.000000  1999.000000                        0.378876   \n",
            "1       107080.000000  1971.000000                        0.561959   \n",
            "2        32011.000000  1957.000000                        0.396217   \n",
            "3        94270.000000  1967.000000                        0.691328   \n",
            "4        33771.000000  1923.000000                        0.387749   \n",
            "...               ...          ...                             ...   \n",
            "185227  148327.623730  1960.704300                        0.379552   \n",
            "185228  116451.431776  1959.835131                        0.363232   \n",
            "185229   28172.567160  1957.428026                        0.318033   \n",
            "185230  106364.244860  1959.560083                        0.358067   \n",
            "185231  200920.503662  1962.138353                        0.406479   \n",
            "\n",
            "        CRV (current replacement value)  DMC (deferred maintenance cost)  \\\n",
            "0                          1.387513e+07                     5.256952e+06   \n",
            "1                          2.924067e+07                     1.643207e+07   \n",
            "2                          1.040358e+07                     4.122073e+06   \n",
            "3                          1.415838e+07                     9.788084e+06   \n",
            "4                          7.377890e+06                     2.860773e+06   \n",
            "...                                 ...                              ...   \n",
            "185227                     4.947942e+07                     2.430771e+07   \n",
            "185228                     3.850777e+07                     1.880201e+07   \n",
            "185229                     8.122582e+06                     3.554356e+06   \n",
            "185230                     3.503581e+07                     1.705973e+07   \n",
            "185231                     6.758165e+07                     3.339162e+07   \n",
            "\n",
            "        WODuration    LaborCost  MaterialCost  OtherCost    TotalCost  ...  \\\n",
            "0        52.000000    71.850000      0.000000        0.0    71.850000  ...   \n",
            "1        18.000000   292.000000    325.350000        0.0   617.350000  ...   \n",
            "2        46.000000    91.000000    104.970000        0.0   195.970000  ...   \n",
            "3        21.000000    91.000000      0.000000        0.0    91.000000  ...   \n",
            "4        22.000000   145.750000      0.000000        0.0   145.750000  ...   \n",
            "...            ...          ...           ...        ...          ...  ...   \n",
            "185227   72.043004   760.309210     59.968448        0.0   820.277658  ...   \n",
            "185228   63.351306   849.399109     68.247553        0.0   917.646662  ...   \n",
            "185229   39.280264  1096.127298     91.175951        0.0  1187.303249  ...   \n",
            "185230   60.600828   877.591512     70.867467        0.0   948.458979  ...   \n",
            "185231   86.383531   613.318806     46.308661        0.0   659.627466  ...   \n",
            "\n",
            "        WOsPerBuilding  WOStartMonth  WOStartYear  WOEndMonth    WOEndYear  \\\n",
            "0                  668      1.000000  2015.000000    3.000000  2015.000000   \n",
            "1                  797     11.000000  2015.000000   12.000000  2015.000000   \n",
            "2                   58      3.000000  2016.000000    4.000000  2016.000000   \n",
            "3                  475      4.000000  2016.000000    5.000000  2016.000000   \n",
            "4                  590      2.000000  2015.000000    3.000000  2015.000000   \n",
            "...                ...           ...          ...         ...          ...   \n",
            "185227            1351      2.481720  2015.629570    4.593010  2015.629570   \n",
            "185228            1070      2.134052  2015.716487    3.984591  2015.716487   \n",
            "185229             294      1.171211  2015.957197    2.299618  2015.957197   \n",
            "185230             981      2.024033  2015.743992    3.792058  2015.743992   \n",
            "185231            1813      3.055341  2015.486165    5.596847  2015.486165   \n",
            "\n",
            "        Type_Other  Type_Research  Type_Student Experience  Type_Teaching  \\\n",
            "0            False          False                    False          False   \n",
            "1            False          False                    False          False   \n",
            "2            False          False                     True          False   \n",
            "3            False          False                     True          False   \n",
            "4            False          False                    False           True   \n",
            "...            ...            ...                      ...            ...   \n",
            "185227        True          False                    False          False   \n",
            "185228        True          False                    False          False   \n",
            "185229        True          False                    False          False   \n",
            "185230        True          False                    False          False   \n",
            "185231        True          False                    False          False   \n",
            "\n",
            "        PPM/UPM_UPM  \n",
            "0             False  \n",
            "1              True  \n",
            "2              True  \n",
            "3             False  \n",
            "4             False  \n",
            "...             ...  \n",
            "185227         True  \n",
            "185228         True  \n",
            "185229         True  \n",
            "185230         True  \n",
            "185231         True  \n",
            "\n",
            "[185232 rows x 32 columns]\n"
          ]
        }
      ],
      "source": [
        "print(X_train_resampled)"
      ]
    },
    {
      "cell_type": "markdown",
      "metadata": {
        "id": "mx4DdcZnUXy4"
      },
      "source": []
    },
    {
      "cell_type": "code",
      "execution_count": null,
      "metadata": {
        "colab": {
          "base_uri": "https://localhost:8080/"
        },
        "id": "RuHqclbbOFzj",
        "outputId": "011770b0-756f-40dd-b6dd-71e56e218c2d"
      },
      "outputs": [
        {
          "name": "stdout",
          "output_type": "stream",
          "text": [
            "Accuracy: 0.6618097220521612\n",
            "              precision    recall  f1-score   support\n",
            "\n",
            "           0       0.15      0.03      0.05        65\n",
            "           1       0.47      0.50      0.48      1580\n",
            "           2       0.52      0.61      0.56      1964\n",
            "           3       0.90      0.96      0.93      2913\n",
            "           4       0.96      0.80      0.87        84\n",
            "           5       0.73      0.54      0.62       520\n",
            "           6       0.45      0.28      0.34        18\n",
            "           7       0.39      0.24      0.30       732\n",
            "          14       0.50      0.25      0.33       141\n",
            "          21       0.40      0.19      0.26        31\n",
            "          30       0.43      0.44      0.43       110\n",
            "          92       0.00      0.00      0.00         2\n",
            "          96       1.00      1.00      1.00         6\n",
            "          97       1.00      1.00      1.00         1\n",
            "\n",
            "    accuracy                           0.66      8167\n",
            "   macro avg       0.57      0.49      0.51      8167\n",
            "weighted avg       0.65      0.66      0.65      8167\n",
            "\n"
          ]
        },
        {
          "name": "stderr",
          "output_type": "stream",
          "text": [
            "/usr/local/lib/python3.11/dist-packages/sklearn/metrics/_classification.py:1565: UndefinedMetricWarning: Precision is ill-defined and being set to 0.0 in labels with no predicted samples. Use `zero_division` parameter to control this behavior.\n",
            "  _warn_prf(average, modifier, f\"{metric.capitalize()} is\", len(result))\n",
            "/usr/local/lib/python3.11/dist-packages/sklearn/metrics/_classification.py:1565: UndefinedMetricWarning: Precision is ill-defined and being set to 0.0 in labels with no predicted samples. Use `zero_division` parameter to control this behavior.\n",
            "  _warn_prf(average, modifier, f\"{metric.capitalize()} is\", len(result))\n",
            "/usr/local/lib/python3.11/dist-packages/sklearn/metrics/_classification.py:1565: UndefinedMetricWarning: Precision is ill-defined and being set to 0.0 in labels with no predicted samples. Use `zero_division` parameter to control this behavior.\n",
            "  _warn_prf(average, modifier, f\"{metric.capitalize()} is\", len(result))\n"
          ]
        }
      ],
      "source": [
        "from sklearn.ensemble import RandomForestClassifier\n",
        "from sklearn.metrics import accuracy_score, classification_report\n",
        "\n",
        "rf_classifier = RandomForestClassifier(random_state=42)  # You can adjust hyperparameters here\n",
        "\n",
        "rf_classifier.fit(X_train_resampled, y_train_resampled)\n",
        "\n",
        "y_pred = rf_classifier.predict(X_test)\n",
        "\n",
        "accuracy = accuracy_score(y_test, y_pred)\n",
        "print(f\"Accuracy: {accuracy}\")\n",
        "\n",
        "print(classification_report(y_test, y_pred))"
      ]
    }
  ],
  "metadata": {
    "colab": {
      "provenance": []
    },
    "kernelspec": {
      "display_name": "Python 3",
      "name": "python3"
    },
    "language_info": {
      "name": "python"
    }
  },
  "nbformat": 4,
  "nbformat_minor": 0
}
